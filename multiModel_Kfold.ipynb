{
 "cells": [
  {
   "cell_type": "code",
   "execution_count": 50,
   "id": "f1a3faca-b25a-433d-b845-719586c0792b",
   "metadata": {},
   "outputs": [],
   "source": [
    "import pandas as pd\n",
    "import re\n",
    "import string\n",
    "import numpy as np\n",
    "import nltk\n",
    "import matplotlib.pyplot as plt\n",
    "from nltk.corpus import stopwords\n",
    "import spacy\n",
    "from sklearn.naive_bayes import MultinomialNB\n",
    "from spacy.tokenizer import Tokenizer\n",
    "from spacy.lang.en import English\n",
    "from sklearn.model_selection import train_test_split\n",
    "\n",
    "from spacy_download import load_spacy\n",
    "# Will download the model if it isn't installed yet\n",
    "#nlp = load_spacy(\"en_core_web_sm\", exclude=[\"parser\", \"tagger\"]) \n",
    "nlp = spacy.load(\"en_core_web_sm\")\n",
    "\n",
    "from sklearn.neighbors import KNeighborsClassifier\n",
    "from sklearn.tree import DecisionTreeClassifier\n",
    "from sklearn.ensemble import RandomForestClassifier\n",
    "from sklearn.naive_bayes import GaussianNB\n",
    "from sklearn.naive_bayes import MultinomialNB\n",
    "from sklearn.neighbors import KNeighborsClassifier\n",
    "from sklearn.svm import SVC\n",
    "from sklearn import svm\n",
    "from sklearn.ensemble import ExtraTreesClassifier\n",
    "from sklearn.linear_model import LogisticRegression\n",
    "from sklearn.model_selection import cross_val_score\n",
    "from sklearn.model_selection import GridSearchCV\n",
    "from sklearn.model_selection import ShuffleSplit\n",
    "from sklearn.model_selection import KFold"
   ]
  },
  {
   "cell_type": "code",
   "execution_count": 51,
   "id": "c0d573af-6764-4b55-94ca-99048e13abf7",
   "metadata": {},
   "outputs": [
    {
     "data": {
      "text/html": [
       "<div>\n",
       "<style scoped>\n",
       "    .dataframe tbody tr th:only-of-type {\n",
       "        vertical-align: middle;\n",
       "    }\n",
       "\n",
       "    .dataframe tbody tr th {\n",
       "        vertical-align: top;\n",
       "    }\n",
       "\n",
       "    .dataframe thead th {\n",
       "        text-align: right;\n",
       "    }\n",
       "</style>\n",
       "<table border=\"1\" class=\"dataframe\">\n",
       "  <thead>\n",
       "    <tr style=\"text-align: right;\">\n",
       "      <th></th>\n",
       "      <th>id</th>\n",
       "      <th>keyword</th>\n",
       "      <th>location</th>\n",
       "      <th>text</th>\n",
       "      <th>target</th>\n",
       "    </tr>\n",
       "  </thead>\n",
       "  <tbody>\n",
       "    <tr>\n",
       "      <th>0</th>\n",
       "      <td>1</td>\n",
       "      <td>NaN</td>\n",
       "      <td>NaN</td>\n",
       "      <td>Our Deeds are the Reason of this  # earthquake...</td>\n",
       "      <td>1</td>\n",
       "    </tr>\n",
       "    <tr>\n",
       "      <th>1</th>\n",
       "      <td>4</td>\n",
       "      <td>NaN</td>\n",
       "      <td>NaN</td>\n",
       "      <td>Forest fire near La Ronge Sask .  Canada</td>\n",
       "      <td>1</td>\n",
       "    </tr>\n",
       "    <tr>\n",
       "      <th>2</th>\n",
       "      <td>5</td>\n",
       "      <td>NaN</td>\n",
       "      <td>NaN</td>\n",
       "      <td>All residents asked to  ' shelter in place '  ...</td>\n",
       "      <td>1</td>\n",
       "    </tr>\n",
       "    <tr>\n",
       "      <th>3</th>\n",
       "      <td>6</td>\n",
       "      <td>NaN</td>\n",
       "      <td>NaN</td>\n",
       "      <td>13,000 people receive  # wildfires evacuation ...</td>\n",
       "      <td>1</td>\n",
       "    </tr>\n",
       "    <tr>\n",
       "      <th>4</th>\n",
       "      <td>7</td>\n",
       "      <td>NaN</td>\n",
       "      <td>NaN</td>\n",
       "      <td>Just got sent this photo from Ruby  # Alaska a...</td>\n",
       "      <td>1</td>\n",
       "    </tr>\n",
       "  </tbody>\n",
       "</table>\n",
       "</div>"
      ],
      "text/plain": [
       "   id keyword location                                               text  \\\n",
       "0   1     NaN      NaN  Our Deeds are the Reason of this  # earthquake...   \n",
       "1   4     NaN      NaN           Forest fire near La Ronge Sask .  Canada   \n",
       "2   5     NaN      NaN  All residents asked to  ' shelter in place '  ...   \n",
       "3   6     NaN      NaN  13,000 people receive  # wildfires evacuation ...   \n",
       "4   7     NaN      NaN  Just got sent this photo from Ruby  # Alaska a...   \n",
       "\n",
       "   target  \n",
       "0       1  \n",
       "1       1  \n",
       "2       1  \n",
       "3       1  \n",
       "4       1  "
      ]
     },
     "execution_count": 51,
     "metadata": {},
     "output_type": "execute_result"
    }
   ],
   "source": [
    "df_train = pd.read_csv('C:/Users/Dikshant Gupta/Desktop/VIT/SEM 6/CSE3020_DV_Prj_NIL/data/train_data_cleaning2.csv')\n",
    "df_test = pd.read_csv('C:/Users/Dikshant Gupta/Desktop/VIT/SEM 6/CSE3020_DV_Prj_NIL/data/test_data_cleaning2.csv')\n",
    "df_train.head(5)"
   ]
  },
  {
   "cell_type": "code",
   "execution_count": 52,
   "id": "e704c2b8-f287-4778-bf45-0290f3b7091d",
   "metadata": {},
   "outputs": [
    {
     "data": {
      "text/plain": [
       "id             0\n",
       "keyword       61\n",
       "location    2533\n",
       "text           0\n",
       "target         0\n",
       "dtype: int64"
      ]
     },
     "execution_count": 52,
     "metadata": {},
     "output_type": "execute_result"
    }
   ],
   "source": [
    "df_train.isnull().sum()"
   ]
  },
  {
   "cell_type": "code",
   "execution_count": 53,
   "id": "f285c70f-e941-4fe5-b2b8-f92d63c447e9",
   "metadata": {},
   "outputs": [
    {
     "data": {
      "text/plain": [
       "(7613, 5)"
      ]
     },
     "execution_count": 53,
     "metadata": {},
     "output_type": "execute_result"
    }
   ],
   "source": [
    "df_train.shape"
   ]
  },
  {
   "cell_type": "markdown",
   "id": "b30f63ce-a021-4dc0-b674-2ba6a787ca0a",
   "metadata": {},
   "source": [
    "# Pre-Processing"
   ]
  },
  {
   "cell_type": "code",
   "execution_count": 54,
   "id": "246d9473-c1c3-49bd-9a60-6a2ba17eba64",
   "metadata": {},
   "outputs": [],
   "source": [
    "def text_cleaner(text):\n",
    "    text = text.lower() # convert to lowercase\n",
    "    text = re.sub(r'[^a-zA-Z0-9\\s]', '', text) # remove punctuation and special characters\n",
    "    text = re.sub(r'\\s+', ' ', text) # remove extra whitespace\n",
    "    text = re.sub(r'https?://\\S+', '', text) # remove URLs\n",
    "    text = re.sub(r\"#\", \"\", text)\n",
    "    return text"
   ]
  },
  {
   "cell_type": "code",
   "execution_count": 55,
   "id": "4907576d-52a0-40e7-9dad-823c9cb97a46",
   "metadata": {},
   "outputs": [],
   "source": [
    "df_train['new'] = df_train['text'].apply(text_cleaner)"
   ]
  },
  {
   "cell_type": "code",
   "execution_count": 56,
   "id": "fcb419ee-c72a-4ab4-8944-6f028b85976d",
   "metadata": {},
   "outputs": [
    {
     "data": {
      "text/plain": [
       "0       (our, deeds, are, the, reason, of, this, earth...\n",
       "1           (forest, fire, near, la, ronge, sask, canada)\n",
       "2       (all, residents, asked, to, shelter, in, place...\n",
       "3       (13000, people, receive, wildfires, evacuation...\n",
       "4       (just, got, sent, this, photo, from, ruby, ala...\n",
       "                              ...                        \n",
       "7608    (two, giant, cranes, holding, a, bridge, colla...\n",
       "7609    ( , aria, ahrary, thetawniest, the, out, of, c...\n",
       "7610    (m1, 94, 01, 04, utc, 5, km, s, of, volcano, h...\n",
       "7611    (police, investigating, after, an, e, bike, co...\n",
       "7612    (the, latest, more, homes, razed, by, northern...\n",
       "Name: new_text, Length: 7613, dtype: object"
      ]
     },
     "execution_count": 56,
     "metadata": {},
     "output_type": "execute_result"
    }
   ],
   "source": [
    "df_train['new_text']=df_train['new'].apply(lambda x:nlp(x))\n",
    "df_train.head()\n",
    "df_train['new_text']"
   ]
  },
  {
   "cell_type": "code",
   "execution_count": 57,
   "id": "59f85b05-9e57-48a2-aa61-9f489792a01e",
   "metadata": {},
   "outputs": [],
   "source": [
    "def transform(text):\n",
    "    doc=nlp(text,disable=['parser','ner'])\n",
    "    lemmas=[token.lemma_ for token in doc]\n",
    "    a_lemmas=[lemma for lemma in lemmas if lemma.isalpha()]\n",
    "    return ' '.join(a_lemmas)"
   ]
  },
  {
   "cell_type": "code",
   "execution_count": 58,
   "id": "8fcc218c-3863-4bd4-b368-6d23104d4289",
   "metadata": {},
   "outputs": [
    {
     "data": {
      "text/plain": [
       "0       our deed be the reason of this earthquake may ...\n",
       "1                   forest fire near la ronge sask canada\n",
       "2       all resident ask to shelter in place be be not...\n",
       "3       people receive wildfire evacuation order in ca...\n",
       "4       just got send this photo from ruby alaska as s...\n",
       "                              ...                        \n",
       "7608    two giant crane hold a bridge collapse into ne...\n",
       "7609    aria ahrary thetawniest the out of control wil...\n",
       "7610                           utc km s of volcano hawaii\n",
       "7611    police investigate after an e bike collide wit...\n",
       "7612    the late more home raze by northern california...\n",
       "Name: new_text, Length: 7613, dtype: object"
      ]
     },
     "execution_count": 58,
     "metadata": {},
     "output_type": "execute_result"
    }
   ],
   "source": [
    "df_train['new_text']=df_train['new_text'].apply(transform)\n",
    "df_train['new_text']"
   ]
  },
  {
   "cell_type": "code",
   "execution_count": 59,
   "id": "0aa2fe41-94a5-4c1a-916c-c3e1bc3477a0",
   "metadata": {},
   "outputs": [
    {
     "data": {
      "text/plain": [
       "(7613, 6)"
      ]
     },
     "execution_count": 59,
     "metadata": {},
     "output_type": "execute_result"
    }
   ],
   "source": [
    "X=df_train['new_text']\n",
    "Y=df_train['target']\n",
    "del df_train['new']\n",
    "df_train.shape"
   ]
  },
  {
   "cell_type": "code",
   "execution_count": 60,
   "id": "6335f834-22c9-4c5c-b32d-d7acfb173f8b",
   "metadata": {},
   "outputs": [],
   "source": [
    "X_train,X_test,Y_train,Y_test=train_test_split(X,Y,random_state=4,test_size=0.2,stratify=Y)"
   ]
  },
  {
   "cell_type": "code",
   "execution_count": 61,
   "id": "5196077c-a915-4591-bcee-7acdb03a4912",
   "metadata": {},
   "outputs": [],
   "source": [
    "from sklearn.feature_extraction.text import TfidfVectorizer\n",
    "vectorizer=TfidfVectorizer(stop_words='english')\n",
    "X_train=vectorizer.fit_transform(X_train)\n",
    "X_test=vectorizer.transform(X_test)"
   ]
  },
  {
   "cell_type": "markdown",
   "id": "4352bc52-f176-4733-b947-c49f657ecd0e",
   "metadata": {},
   "source": [
    "# Model Building & Testing"
   ]
  },
  {
   "cell_type": "code",
   "execution_count": 62,
   "id": "e54abd87-4454-4dd0-8ecc-a9de24f63c0c",
   "metadata": {},
   "outputs": [
    {
     "data": {
      "text/plain": [
       "[('Logistic Regression', LogisticRegression()),\n",
       " ('Kernel SVM', SVC()),\n",
       " ('KNN', KNeighborsClassifier()),\n",
       " ('Multinomial NB', MultinomialNB()),\n",
       " ('Random Forest', RandomForestClassifier()),\n",
       " ('Decision Tree Classifier', DecisionTreeClassifier())]"
      ]
     },
     "execution_count": 62,
     "metadata": {},
     "output_type": "execute_result"
    }
   ],
   "source": [
    "models = []\n",
    "models.append(('Logistic Regression', LogisticRegression()))\n",
    "models.append(('Kernel SVM', SVC()))\n",
    "models.append(('KNN', KNeighborsClassifier()))\n",
    "models.append(('Multinomial NB', MultinomialNB()))\n",
    "models.append(('Random Forest', RandomForestClassifier()))\n",
    "models.append(('Decision Tree Classifier', DecisionTreeClassifier()))\n",
    "models"
   ]
  },
  {
   "cell_type": "code",
   "execution_count": 63,
   "id": "a9b8ad3e-6b09-4341-9bdc-27e26ae90cc1",
   "metadata": {},
   "outputs": [
    {
     "data": {
      "text/plain": [
       "(6090, 11527)"
      ]
     },
     "execution_count": 63,
     "metadata": {},
     "output_type": "execute_result"
    }
   ],
   "source": [
    "X_train.shape"
   ]
  },
  {
   "cell_type": "code",
   "execution_count": 64,
   "id": "fa98e791-fbe9-460a-8de7-20499b38a0c1",
   "metadata": {},
   "outputs": [
    {
     "data": {
      "text/html": [
       "<div>\n",
       "<style scoped>\n",
       "    .dataframe tbody tr th:only-of-type {\n",
       "        vertical-align: middle;\n",
       "    }\n",
       "\n",
       "    .dataframe tbody tr th {\n",
       "        vertical-align: top;\n",
       "    }\n",
       "\n",
       "    .dataframe thead th {\n",
       "        text-align: right;\n",
       "    }\n",
       "</style>\n",
       "<table border=\"1\" class=\"dataframe\">\n",
       "  <thead>\n",
       "    <tr style=\"text-align: right;\">\n",
       "      <th></th>\n",
       "      <th>Algorithm</th>\n",
       "      <th>accuracy</th>\n",
       "      <th>ROC</th>\n",
       "      <th>Precision</th>\n",
       "      <th>f1_score</th>\n",
       "    </tr>\n",
       "  </thead>\n",
       "  <tbody>\n",
       "    <tr>\n",
       "      <th>0</th>\n",
       "      <td>Logistic Regression</td>\n",
       "      <td>80.25</td>\n",
       "      <td>86.43</td>\n",
       "      <td>85.48</td>\n",
       "      <td>73.84</td>\n",
       "    </tr>\n",
       "    <tr>\n",
       "      <th>1</th>\n",
       "      <td>Kernel SVM</td>\n",
       "      <td>80.13</td>\n",
       "      <td>85.94</td>\n",
       "      <td>87.73</td>\n",
       "      <td>72.92</td>\n",
       "    </tr>\n",
       "    <tr>\n",
       "      <th>3</th>\n",
       "      <td>Multinomial NB</td>\n",
       "      <td>80.57</td>\n",
       "      <td>85.82</td>\n",
       "      <td>82.94</td>\n",
       "      <td>75.24</td>\n",
       "    </tr>\n",
       "    <tr>\n",
       "      <th>4</th>\n",
       "      <td>Random Forest</td>\n",
       "      <td>78.65</td>\n",
       "      <td>84.73</td>\n",
       "      <td>82.79</td>\n",
       "      <td>71.81</td>\n",
       "    </tr>\n",
       "    <tr>\n",
       "      <th>2</th>\n",
       "      <td>KNN</td>\n",
       "      <td>76.47</td>\n",
       "      <td>80.89</td>\n",
       "      <td>83.01</td>\n",
       "      <td>67.41</td>\n",
       "    </tr>\n",
       "    <tr>\n",
       "      <th>5</th>\n",
       "      <td>Decision Tree Classifier</td>\n",
       "      <td>74.22</td>\n",
       "      <td>73.74</td>\n",
       "      <td>71.41</td>\n",
       "      <td>69.58</td>\n",
       "    </tr>\n",
       "  </tbody>\n",
       "</table>\n",
       "</div>"
      ],
      "text/plain": [
       "                  Algorithm  accuracy    ROC  Precision  f1_score\n",
       "0       Logistic Regression     80.25  86.43      85.48     73.84\n",
       "1                Kernel SVM     80.13  85.94      87.73     72.92\n",
       "3            Multinomial NB     80.57  85.82      82.94     75.24\n",
       "4             Random Forest     78.65  84.73      82.79     71.81\n",
       "2                       KNN     76.47  80.89      83.01     67.41\n",
       "5  Decision Tree Classifier     74.22  73.74      71.41     69.58"
      ]
     },
     "execution_count": 64,
     "metadata": {},
     "output_type": "execute_result"
    }
   ],
   "source": [
    "from sklearn import model_selection\n",
    "acc_score=[]\n",
    "auc_score=[]\n",
    "pre_results=[]\n",
    "f1_results=[]\n",
    "names=[]\n",
    "result_col=pd.DataFrame(columns=['Algorithm','accuracy','ROC','Precision','f1_score'])\n",
    "result_col\n",
    "\n",
    "i=0\n",
    "for name,model in models:\n",
    "    kfold=model_selection.KFold(n_splits=10)\n",
    "    names.append(name)\n",
    "    cv_acc_results = model_selection.cross_val_score(model, X_train, Y_train,cv=kfold,scoring=\"accuracy\")\n",
    "    cv_auc_results = model_selection.cross_val_score(model, X_train, Y_train,cv=kfold,scoring=\"roc_auc\")\n",
    "    cv_pre_results = model_selection.cross_val_score(model, X_train, Y_train,cv=kfold,scoring=\"precision\")\n",
    "    cv_f1_results = model_selection.cross_val_score(model, X_train, Y_train,cv=kfold,scoring=\"f1\")\n",
    "    acc_score.append(cv_acc_results)\n",
    "    auc_score.append(auc_score)\n",
    "    pre_results.append(cv_pre_results)\n",
    "    f1_results.append(cv_f1_results)\n",
    "    \n",
    "    result_col.loc[i]=[name,round(cv_acc_results.mean()*100,2),\n",
    "                           round(cv_auc_results.mean()*100,2),\n",
    "                           round(cv_pre_results.mean()*100,2),\n",
    "                           round(cv_f1_results.mean()*100,2)]\n",
    "    i+=1\n",
    "    \n",
    "result_col.sort_values(by=['ROC'],ascending=False)"
   ]
  },
  {
   "cell_type": "markdown",
   "id": "fe061fd2-7548-481e-b962-4ab76b109d1a",
   "metadata": {},
   "source": [
    "# Hyperparameter Tuning"
   ]
  },
  {
   "cell_type": "code",
   "execution_count": 66,
   "id": "4e177e38-4aef-48fb-ae35-8f571ee72f5d",
   "metadata": {},
   "outputs": [],
   "source": [
    "models_tuned = []\n",
    "\n",
    "models_tuned.append(('Logistic Regression', LogisticRegression(solver='liblinear',C = 10, max_iter=500, random_state = 0)))\n",
    "models_tuned.append(('SVC', SVC(C=1, kernel = 'linear', gamma=1, random_state = 0)))\n",
    "models_tuned.append(('Kernel SVM', SVC(C=1, kernel = 'rbf', gamma=1, random_state = 0)))\n",
    "models_tuned.append(('KNN', KNeighborsClassifier(n_neighbors = 5, metric = 'euclidean', p = 2,algorithm='brute')))\n",
    "models_tuned.append(('Multinomial NB', MultinomialNB()))\n",
    "models_tuned.append(('Decision Tree Classifier', DecisionTreeClassifier(criterion = 'gini', max_leaf_nodes=19, random_state = 0)))\n",
    "models_tuned.append(('Random Forest', RandomForestClassifier(max_leaf_nodes = 24,max_features = 25,n_estimators = 50,criterion = 'entropy', random_state = 0)))"
   ]
  },
  {
   "cell_type": "code",
   "execution_count": 67,
   "id": "83392097-efb2-46ef-a597-f4e0c70fbd60",
   "metadata": {},
   "outputs": [
    {
     "data": {
      "text/html": [
       "<div>\n",
       "<style scoped>\n",
       "    .dataframe tbody tr th:only-of-type {\n",
       "        vertical-align: middle;\n",
       "    }\n",
       "\n",
       "    .dataframe tbody tr th {\n",
       "        vertical-align: top;\n",
       "    }\n",
       "\n",
       "    .dataframe thead th {\n",
       "        text-align: right;\n",
       "    }\n",
       "</style>\n",
       "<table border=\"1\" class=\"dataframe\">\n",
       "  <thead>\n",
       "    <tr style=\"text-align: right;\">\n",
       "      <th></th>\n",
       "      <th>Algorithm</th>\n",
       "      <th>ROC AUC</th>\n",
       "      <th>Accuracy</th>\n",
       "      <th>Precision</th>\n",
       "      <th>F1 Scores</th>\n",
       "    </tr>\n",
       "  </thead>\n",
       "  <tbody>\n",
       "    <tr>\n",
       "      <th>4</th>\n",
       "      <td>Multinomial NB</td>\n",
       "      <td>80.54</td>\n",
       "      <td>74.45</td>\n",
       "      <td>82.12</td>\n",
       "      <td>63.67</td>\n",
       "    </tr>\n",
       "    <tr>\n",
       "      <th>1</th>\n",
       "      <td>SVC</td>\n",
       "      <td>80.41</td>\n",
       "      <td>76.03</td>\n",
       "      <td>77.81</td>\n",
       "      <td>68.91</td>\n",
       "    </tr>\n",
       "    <tr>\n",
       "      <th>2</th>\n",
       "      <td>Kernel SVM</td>\n",
       "      <td>80.41</td>\n",
       "      <td>73.01</td>\n",
       "      <td>83.65</td>\n",
       "      <td>59.44</td>\n",
       "    </tr>\n",
       "    <tr>\n",
       "      <th>0</th>\n",
       "      <td>Logistic Regression</td>\n",
       "      <td>79.14</td>\n",
       "      <td>74.65</td>\n",
       "      <td>75.12</td>\n",
       "      <td>67.69</td>\n",
       "    </tr>\n",
       "    <tr>\n",
       "      <th>6</th>\n",
       "      <td>Random Forest</td>\n",
       "      <td>76.08</td>\n",
       "      <td>61.52</td>\n",
       "      <td>100.00</td>\n",
       "      <td>18.87</td>\n",
       "    </tr>\n",
       "    <tr>\n",
       "      <th>5</th>\n",
       "      <td>Decision Tree Classifier</td>\n",
       "      <td>61.23</td>\n",
       "      <td>65.07</td>\n",
       "      <td>72.55</td>\n",
       "      <td>42.01</td>\n",
       "    </tr>\n",
       "    <tr>\n",
       "      <th>3</th>\n",
       "      <td>KNN</td>\n",
       "      <td>59.38</td>\n",
       "      <td>60.01</td>\n",
       "      <td>100.00</td>\n",
       "      <td>12.84</td>\n",
       "    </tr>\n",
       "  </tbody>\n",
       "</table>\n",
       "</div>"
      ],
      "text/plain": [
       "                  Algorithm  ROC AUC  Accuracy  Precision  F1 Scores\n",
       "4            Multinomial NB    80.54     74.45      82.12      63.67\n",
       "1                       SVC    80.41     76.03      77.81      68.91\n",
       "2                Kernel SVM    80.41     73.01      83.65      59.44\n",
       "0       Logistic Regression    79.14     74.65      75.12      67.69\n",
       "6             Random Forest    76.08     61.52     100.00      18.87\n",
       "5  Decision Tree Classifier    61.23     65.07      72.55      42.01\n",
       "3                       KNN    59.38     60.01     100.00      12.84"
      ]
     },
     "execution_count": 67,
     "metadata": {},
     "output_type": "execute_result"
    }
   ],
   "source": [
    "# Testing\n",
    "\n",
    "acc_results_opt =[]\n",
    "auc_results_opt =[]\n",
    "pre_results_opt =[]\n",
    "f1_results_opt =[]\n",
    "names_opt = []\n",
    "\n",
    "result_col_opt = [\"Algorithm\", \"ROC AUC\", \"Accuracy\", 'Precision', 'F1 Scores']\n",
    "model_results_opt = pd.DataFrame(columns = result_col_opt)\n",
    "\n",
    "i=0\n",
    "# K- fold cross validation\n",
    "\n",
    "for name, model in models_tuned:\n",
    "    names_opt.append(name)\n",
    "    kfold = model_selection.KFold(n_splits=10)\n",
    "    \n",
    "    cv_acc_results_opt = model_selection.cross_val_score(model, X_test, Y_test, \n",
    "                    cv = kfold, scoring=\"accuracy\")\n",
    "    cv_auc_results_opt = model_selection.cross_val_score(model, X_test, Y_test,\n",
    "                    cv = kfold, scoring=\"roc_auc\")\n",
    "    cv_pre_results_opt = model_selection.cross_val_score(model, X_test, Y_test,\n",
    "                    cv = kfold, scoring=\"precision\")\n",
    "    cv_f1_results_opt = model_selection.cross_val_score(model, X_test, Y_test,\n",
    "                    cv = kfold, scoring=\"f1\")\n",
    "    acc_results_opt.append(cv_acc_results_opt)\n",
    "    auc_results_opt.append(cv_auc_results_opt)\n",
    "    pre_results_opt.append(cv_pre_results_opt)\n",
    "    f1_results_opt.append(cv_f1_results_opt)\n",
    "    model_results_opt.loc[i] = [name, \n",
    "                           round(cv_auc_results_opt.mean()*100,2),\n",
    "                           round(cv_acc_results_opt.mean()*100,2),\n",
    "                           round(cv_pre_results_opt.mean()*100,2),\n",
    "                           round(cv_f1_results_opt.mean()*100,2)]\n",
    "    i+=1\n",
    "model_results_opt.sort_values(by = ['ROC AUC'], ascending=False)"
   ]
  },
  {
   "cell_type": "code",
   "execution_count": null,
   "id": "41538d8c-b061-4a50-864e-d52cda8d74f1",
   "metadata": {},
   "outputs": [],
   "source": []
  }
 ],
 "metadata": {
  "kernelspec": {
   "display_name": "Python 3 (ipykernel)",
   "language": "python",
   "name": "python3"
  },
  "language_info": {
   "codemirror_mode": {
    "name": "ipython",
    "version": 3
   },
   "file_extension": ".py",
   "mimetype": "text/x-python",
   "name": "python",
   "nbconvert_exporter": "python",
   "pygments_lexer": "ipython3",
   "version": "3.10.9"
  }
 },
 "nbformat": 4,
 "nbformat_minor": 5
}
